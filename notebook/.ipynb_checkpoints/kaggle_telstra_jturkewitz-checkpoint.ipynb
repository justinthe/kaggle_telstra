{
 "cells": [
  {
   "cell_type": "markdown",
   "metadata": {},
   "source": [
    "https://github.com/jturkewitz/SideProjects/blob/master/Kaggle/Telstra/telstra.py"
   ]
  },
  {
   "cell_type": "code",
   "execution_count": 1,
   "metadata": {},
   "outputs": [],
   "source": [
    "import pandas as pd\n",
    "import numpy as np\n",
    "import os\n",
    "import random\n",
    "import timeit"
   ]
  },
  {
   "cell_type": "code",
   "execution_count": 2,
   "metadata": {},
   "outputs": [
    {
     "name": "stdout",
     "output_type": "stream",
     "text": [
      "Load time:  0.7178936580000004\n"
     ]
    }
   ],
   "source": [
    "#tic0 = timeit.default_timer()\n",
    "tic = timeit.default_timer()\n",
    "datadir = '../data'\n",
    "train = pd.read_csv(os.path.join(datadir,'train.csv', header=0)\n",
    "test = pd.read_csv('test.csv', header=0)\n",
    "severity_type = pd.read_csv('severity_type.csv', header=0)\n",
    "log_feature = pd.read_csv('log_feature.csv', header=0)\n",
    "event_type = pd.read_csv('event_type2.csv', header=0)\n",
    "resource_type = pd.read_csv('resource_type2.csv', header=0)\n",
    "\n",
    "toc = timeit.default_timer()\n",
    "print('Load time: ',toc-tic)"
   ]
  },
  {
   "cell_type": "code",
   "execution_count": 3,
   "metadata": {},
   "outputs": [
    {
     "data": {
      "text/plain": [
       "0    2\n",
       "1    2\n",
       "2    2\n",
       "3    1\n",
       "Name: severity_type, dtype: object"
      ]
     },
     "execution_count": 3,
     "metadata": {},
     "output_type": "execute_result"
    }
   ],
   "source": [
    "severity_type['severity_type'].map(lambda x: x.replace(' ','_')).head(4)\n",
    "severity_type['severity_type'].map(lambda x: x[-1]).head(4)"
   ]
  },
  {
   "cell_type": "code",
   "execution_count": 4,
   "metadata": {},
   "outputs": [],
   "source": [
    "severity_type['severity_type'] = severity_type['severity_type'].map(lambda x: x.replace(' ','_'))\n",
    "severity_type['severity_type'] = severity_type['severity_type'].map(lambda x: x[-1])"
   ]
  },
  {
   "cell_type": "code",
   "execution_count": 5,
   "metadata": {},
   "outputs": [],
   "source": [
    "event_type['event_type'] = event_type['event_type'].map(lambda x: x.replace(' ', '_'))\n",
    "#event_type['event_type'] = event_type['event_type'].map(lambda x: x[11:]).astype(int)"
   ]
  },
  {
   "cell_type": "code",
   "execution_count": 6,
   "metadata": {},
   "outputs": [],
   "source": [
    "event_type['event_type'] = event_type['event_type'].map(lambda x: x[11:]).astype(int)"
   ]
  },
  {
   "cell_type": "code",
   "execution_count": null,
   "metadata": {},
   "outputs": [],
   "source": [
    "event_type_dummies = pd.get_dummies(event_type,columns=['event_type'])"
   ]
  },
  {
   "cell_type": "code",
   "execution_count": 9,
   "metadata": {},
   "outputs": [
    {
     "ename": "NameError",
     "evalue": "name 'event_type_dummies' is not defined",
     "output_type": "error",
     "traceback": [
      "\u001b[1;31m---------------------------------------------------------------------------\u001b[0m",
      "\u001b[1;31mNameError\u001b[0m                                 Traceback (most recent call last)",
      "\u001b[1;32m<ipython-input-9-6017b3fafcb6>\u001b[0m in \u001b[0;36m<module>\u001b[1;34m\u001b[0m\n\u001b[1;32m----> 1\u001b[1;33m \u001b[0mevent_type_dummies\u001b[0m\u001b[1;33m.\u001b[0m\u001b[0mshape\u001b[0m\u001b[1;33m\u001b[0m\u001b[0m\n\u001b[0m",
      "\u001b[1;31mNameError\u001b[0m: name 'event_type_dummies' is not defined"
     ]
    }
   ],
   "source": [
    "event_type_dummies.shape"
   ]
  },
  {
   "cell_type": "code",
   "execution_count": 7,
   "metadata": {},
   "outputs": [],
   "source": [
    "resource_type['resource_type'] = resource_type['resource_type'].map(lambda x: x[14:]).astype(int)"
   ]
  },
  {
   "cell_type": "code",
   "execution_count": 8,
   "metadata": {},
   "outputs": [],
   "source": [
    "resource_type_dummies = pd.get_dummies(resource_type, columns=['resource_type'])"
   ]
  },
  {
   "cell_type": "code",
   "execution_count": null,
   "metadata": {},
   "outputs": [],
   "source": [
    "resource_type_dummies.head()"
   ]
  },
  {
   "cell_type": "code",
   "execution_count": null,
   "metadata": {},
   "outputs": [],
   "source": [
    "resource_type['resource_type'].head(5)\n",
    "resource_type['resource_type'].shift(1).head(5)\n",
    "resource_type['resource_type'].value_counts()\n",
    "\n",
    "resource_type['resource_shifted_up'] = resource_type['resource_type'].shift(1)\n",
    "resource_type['resource_shifted_up'].fillna(8, inplace=True)"
   ]
  },
  {
   "cell_type": "code",
   "execution_count": null,
   "metadata": {},
   "outputs": [],
   "source": [
    "resource_type['is_next_resource_type_repeat'] = 0\n",
    "resource_type['is_next_resource_type_different'] = 0"
   ]
  },
  {
   "cell_type": "code",
   "execution_count": null,
   "metadata": {},
   "outputs": [],
   "source": [
    "repeat_cond = resource_type['resource_type'] == resource_type['resource_shifted_up']"
   ]
  },
  {
   "cell_type": "code",
   "execution_count": null,
   "metadata": {},
   "outputs": [],
   "source": [
    "resource_type['is_next_resource_type_repeat'][repeat_cond] = 1\n",
    "resource_type['is_next_resource_type_different'][~repeat_cond] = 1"
   ]
  },
  {
   "cell_type": "code",
   "execution_count": null,
   "metadata": {},
   "outputs": [],
   "source": [
    "resource_type[resource_type['is_next_resource_type_repeat'] == 0]\n",
    "\n",
    "resource_type[24:27]"
   ]
  },
  {
   "cell_type": "code",
   "execution_count": null,
   "metadata": {},
   "outputs": [],
   "source": [
    "resource_type['switches_resource_type'] = resource_type['is_next_resource_type_different'].cumsum()"
   ]
  },
  {
   "cell_type": "code",
   "execution_count": null,
   "metadata": {},
   "outputs": [],
   "source": [
    "log_feature.head(3)"
   ]
  },
  {
   "cell_type": "code",
   "execution_count": null,
   "metadata": {
    "scrolled": true
   },
   "outputs": [],
   "source": [
    "log_feature['log_feature'] = log_feature['log_feature'].map(lambda x: x.replace(' ','_'))\n",
    "log_feature['log_feature'] = log_feature['log_feature'].map(lambda x: x[8:]).astype(int)\n",
    "log_feature['log_feature'].dtypes"
   ]
  },
  {
   "cell_type": "code",
   "execution_count": null,
   "metadata": {},
   "outputs": [],
   "source": [
    "log_feature.index"
   ]
  },
  {
   "cell_type": "code",
   "execution_count": null,
   "metadata": {},
   "outputs": [],
   "source": [
    "log_feature.rename(columns={'index':'count_of_log_feature_seen'},inplace=True)"
   ]
  },
  {
   "cell_type": "code",
   "execution_count": null,
   "metadata": {},
   "outputs": [],
   "source": [
    "log_feature.head(3)"
   ]
  },
  {
   "cell_type": "code",
   "execution_count": null,
   "metadata": {},
   "outputs": [],
   "source": [
    "log_feature_value_counts = log_feature['log_feature'].value_counts().to_dict()"
   ]
  },
  {
   "cell_type": "code",
   "execution_count": null,
   "metadata": {},
   "outputs": [],
   "source": [
    "log_feature['num_ids_with_log_feature'] = log_feature['log_feature'].map(lambda x:log_feature_value_counts[x])"
   ]
  },
  {
   "cell_type": "code",
   "execution_count": null,
   "metadata": {},
   "outputs": [],
   "source": [
    "log_feature.head(5)"
   ]
  },
  {
   "cell_type": "code",
   "execution_count": null,
   "metadata": {},
   "outputs": [],
   "source": [
    "bins = [i for i in range(-10,410,10)]"
   ]
  },
  {
   "cell_type": "code",
   "execution_count": null,
   "metadata": {},
   "outputs": [],
   "source": [
    "log_feature['binned_log_feature'] = np.digitize(log_feature['log_feature'], bins, right=True)"
   ]
  },
  {
   "cell_type": "code",
   "execution_count": null,
   "metadata": {
    "scrolled": true
   },
   "outputs": [],
   "source": [
    "log_feature.head(20)"
   ]
  },
  {
   "cell_type": "code",
   "execution_count": null,
   "metadata": {},
   "outputs": [],
   "source": [
    "bins_offset = list(map(lambda x:x+5, bins))"
   ]
  },
  {
   "cell_type": "code",
   "execution_count": null,
   "metadata": {},
   "outputs": [],
   "source": [
    "log_feature['binned_offset_log_feature'] = np.digitize(log_feature['log_feature'], bins_offset, right=True)"
   ]
  },
  {
   "cell_type": "code",
   "execution_count": null,
   "metadata": {},
   "outputs": [],
   "source": [
    "log_feature['position_of_log_feature'] = 1"
   ]
  },
  {
   "cell_type": "code",
   "execution_count": null,
   "metadata": {
    "scrolled": true
   },
   "outputs": [],
   "source": [
    "log_feature['position_of_log_feature'] = log_feature.groupby(by=['id'])['position_of_log_feature'].cumsum()"
   ]
  },
  {
   "cell_type": "code",
   "execution_count": null,
   "metadata": {},
   "outputs": [],
   "source": [
    "log_feature['log_feature'] = log_feature['log_feature'].astype(int)"
   ]
  },
  {
   "cell_type": "code",
   "execution_count": null,
   "metadata": {},
   "outputs": [],
   "source": [
    "log_feature[log_feature['id'].isin([4593,14838])].sort_values(by=['id','position_of_log_feature'])"
   ]
  },
  {
   "cell_type": "code",
   "execution_count": null,
   "metadata": {},
   "outputs": [],
   "source": [
    "temp_combined = pd.concat((train, test), axis=0, ignore_index=True)"
   ]
  },
  {
   "cell_type": "code",
   "execution_count": null,
   "metadata": {},
   "outputs": [],
   "source": [
    "temp_combined.tail(3)"
   ]
  },
  {
   "cell_type": "code",
   "execution_count": null,
   "metadata": {},
   "outputs": [],
   "source": [
    "event_type_combined = pd.merge(temp_combined, event_type, how='left', left_on=['id'], right_on=['id'] )"
   ]
  },
  {
   "cell_type": "code",
   "execution_count": null,
   "metadata": {},
   "outputs": [],
   "source": [
    "event_type_combined.head(10)"
   ]
  },
  {
   "cell_type": "code",
   "execution_count": null,
   "metadata": {
    "scrolled": true
   },
   "outputs": [],
   "source": [
    "event_type_combined.sort_index()"
   ]
  },
  {
   "cell_type": "code",
   "execution_count": null,
   "metadata": {
    "scrolled": true
   },
   "outputs": [],
   "source": [
    "# #139\n",
    "most_commonn_event_type_dict = event_type_combined.groupby(['location'])['event_type'].agg(lambda x: x.value_counts().index[0]).to_dict()\n",
    "#event_type_combined.groupby(['location']).count()"
   ]
  },
  {
   "cell_type": "code",
   "execution_count": null,
   "metadata": {
    "scrolled": true
   },
   "outputs": [],
   "source": [
    "most_commonn_event_type_dict['location 1']"
   ]
  },
  {
   "cell_type": "code",
   "execution_count": null,
   "metadata": {
    "scrolled": true
   },
   "outputs": [],
   "source": [
    "event_type_no_dups = event_type_combined.drop_duplicates(['location'])\n",
    "event_type_no_dups_id = event_type_combined.drop_duplicates(['id'])"
   ]
  },
  {
   "cell_type": "code",
   "execution_count": null,
   "metadata": {},
   "outputs": [],
   "source": [
    "print(event_type_no_dups.shape)\n",
    "print(event_type_no_dups_id.shape)\n",
    "print(event_type_combined.shape)"
   ]
  },
  {
   "cell_type": "code",
   "execution_count": null,
   "metadata": {},
   "outputs": [],
   "source": [
    "event_type_combined.head(3)"
   ]
  },
  {
   "cell_type": "code",
   "execution_count": null,
   "metadata": {},
   "outputs": [],
   "source": [
    "event_type_combined['location_number'] = event_type_combined['location'].map(lambda x: x[9:]).astype(int)"
   ]
  },
  {
   "cell_type": "code",
   "execution_count": null,
   "metadata": {
    "scrolled": true
   },
   "outputs": [],
   "source": [
    "event_type_combined.sort_values(['location_number'])"
   ]
  },
  {
   "cell_type": "code",
   "execution_count": null,
   "metadata": {
    "scrolled": true
   },
   "outputs": [],
   "source": [
    "print(temp_combined.head(3))\n",
    "print(log_feature.head(3))\n",
    "print(event_type_no_dups_id[['id','event_type']].head(3))"
   ]
  },
  {
   "cell_type": "code",
   "execution_count": null,
   "metadata": {},
   "outputs": [],
   "source": [
    "log_combined = pd.merge(temp_combined, log_feature, how='left', left_on='id', right_on='id')\n",
    "log_combined = pd.merge(log_combined, event_type_no_dups_id[['id', 'event_type']], how='left', left_on='id', right_on='id')"
   ]
  },
  {
   "cell_type": "code",
   "execution_count": null,
   "metadata": {},
   "outputs": [],
   "source": [
    "log_combined.head(4)"
   ]
  },
  {
   "cell_type": "code",
   "execution_count": null,
   "metadata": {},
   "outputs": [],
   "source": [
    "# log_feature_unique_features_per_location\n",
    "log_feature_unique_features_per_location_dict = log_combined.groupby(['location'])['log_feature'].nunique().to_dict()"
   ]
  },
  {
   "cell_type": "code",
   "execution_count": null,
   "metadata": {},
   "outputs": [],
   "source": [
    "log_combined[log_combined['location'] == 'location 1']['log_feature'].value_counts()"
   ]
  },
  {
   "cell_type": "code",
   "execution_count": null,
   "metadata": {},
   "outputs": [],
   "source": [
    "log_feature_unique_features_per_location_dict['location 1']"
   ]
  },
  {
   "cell_type": "code",
   "execution_count": null,
   "metadata": {},
   "outputs": [],
   "source": [
    "most_common_event_dict = log_combined.groupby(['location'])['event_type'].agg(lambda x: x.value_counts().index[0]).to_dict()"
   ]
  },
  {
   "cell_type": "code",
   "execution_count": null,
   "metadata": {},
   "outputs": [],
   "source": [
    "most_common_feature_dict = log_combined.groupby(['location'])['log_feature'].agg(lambda x: x.value_counts().index[0]).to_dict()"
   ]
  },
  {
   "cell_type": "code",
   "execution_count": null,
   "metadata": {},
   "outputs": [],
   "source": [
    "mean_volume_dict = log_combined.groupby(['location'])['volume'].agg(lambda x: x.mean()).to_dict()\n",
    "max_volume_dict = log_combined.groupby(['location'])['volume'].agg(lambda x: x.max()).to_dict()\n",
    "std_log_feature_dict = log_combined.groupby(['location'])['log_feature'].agg(lambda x: x.std()).to_dict()"
   ]
  },
  {
   "cell_type": "code",
   "execution_count": null,
   "metadata": {},
   "outputs": [],
   "source": [
    "unique_locations_per_feature_dict = log_combined.groupby(['log_feature'])['location'].nunique().to_dict()"
   ]
  },
  {
   "cell_type": "code",
   "execution_count": null,
   "metadata": {},
   "outputs": [],
   "source": [
    "median_ids_with_feature_number_dict = log_combined.groupby(['location'])['num_ids_with_log_feature'].agg(lambda x: x.median()).to_dict()\n",
    "median_feature_number_dict = log_combined.groupby(['location'])['log_feature'].agg(lambda x: x.median()).to_dict()"
   ]
  },
  {
   "cell_type": "code",
   "execution_count": null,
   "metadata": {},
   "outputs": [],
   "source": [
    "log_combined['location_number'] = log_combined['location'].map(lambda x:x[9:]).astype(int)"
   ]
  },
  {
   "cell_type": "code",
   "execution_count": null,
   "metadata": {},
   "outputs": [],
   "source": [
    "most_common_location_dict = log_combined.groupby(['log_feature'])['location_number'].agg(lambda x: x.value_counts().index[0]).to_dict()"
   ]
  },
  {
   "cell_type": "code",
   "execution_count": null,
   "metadata": {},
   "outputs": [],
   "source": [
    "log_combined.sort_index().sort_values(['location_number'])"
   ]
  },
  {
   "cell_type": "code",
   "execution_count": null,
   "metadata": {},
   "outputs": [],
   "source": [
    "log_feature['locations_per_feature'] = log_feature['log_feature'].map(unique_locations_per_feature_dict)\n",
    "log_feature['most_common_location_of_log_feature'] = log_feature['log_feature'].map(most_common_location_dict)\n",
    "log_feature['most_common_event_of_log_feature'] = log_feature['log_feature'].map(most_common_event_dict)"
   ]
  },
  {
   "cell_type": "code",
   "execution_count": null,
   "metadata": {},
   "outputs": [],
   "source": [
    "log_feature.head(3)"
   ]
  },
  {
   "cell_type": "code",
   "execution_count": null,
   "metadata": {},
   "outputs": [],
   "source": [
    "unique_locations_per_feature_dict[68]"
   ]
  },
  {
   "cell_type": "code",
   "execution_count": null,
   "metadata": {
    "scrolled": true
   },
   "outputs": [],
   "source": [
    "# has_event_type_dict = {}\n",
    "# event_grouped = event_type_combined.groupby(['location'])\n",
    "print(event_type_combined[event_type_combined['location'] == 'location 1']['event_type'].value_counts())\n",
    "print(event_type_combined['event_type'].unique())\n",
    "event_type_combined.groupby(['location'])['event_type'].unique()"
   ]
  },
  {
   "cell_type": "code",
   "execution_count": null,
   "metadata": {},
   "outputs": [],
   "source": [
    "has_event_type_dict = {}\n",
    "event_group = event_type_combined.groupby(['location'])\n",
    "for i in event_type_combined['event_type'].unique():\n",
    "    has_event_type_dict[i] = event_group['event_type'].agg(lambda x: 1 if i in x.values else 0).to_dict()"
   ]
  },
  {
   "cell_type": "code",
   "execution_count": null,
   "metadata": {},
   "outputs": [],
   "source": [
    "has_event_type_dict[15]"
   ]
  },
  {
   "cell_type": "code",
   "execution_count": null,
   "metadata": {},
   "outputs": [],
   "source": [
    "event_type_number_dict = event_type_combined.groupby(['location'])['event_type'].agg(lambda x: x.nunique()).to_dict()"
   ]
  },
  {
   "cell_type": "code",
   "execution_count": null,
   "metadata": {},
   "outputs": [],
   "source": [
    "event_type_no_dups = event_type_combined.drop_duplicates('id')"
   ]
  },
  {
   "cell_type": "code",
   "execution_count": null,
   "metadata": {},
   "outputs": [],
   "source": [
    "print(temp_combined.head(3))\n",
    "resource_type.head(3)"
   ]
  },
  {
   "cell_type": "code",
   "execution_count": null,
   "metadata": {},
   "outputs": [],
   "source": [
    "resource_type_combined = pd.merge(temp_combined, resource_type, how='left', left_on=['id'], right_on=['id'])"
   ]
  },
  {
   "cell_type": "code",
   "execution_count": null,
   "metadata": {},
   "outputs": [],
   "source": [
    "most_common_resource_type_dict = resource_type_combined.groupby(['location'])['resource_type'].agg(lambda x: x.value_counts().index[0]).to_dict()\n",
    "std_resource_type_idct = resource_type_combined.groupby(['location'])['resource_type'].agg(lambda x: x.std()).to_dict()\n",
    "resource_type_number_dict = resource_type_combined.groupby(['location'])['resource_type'].agg(lambda x: x.nunique()).to_dict()"
   ]
  },
  {
   "cell_type": "code",
   "execution_count": null,
   "metadata": {},
   "outputs": [],
   "source": [
    "resource_type.head(3)"
   ]
  },
  {
   "cell_type": "code",
   "execution_count": null,
   "metadata": {},
   "outputs": [],
   "source": []
  }
 ],
 "metadata": {
  "kernelspec": {
   "display_name": "Python 3",
   "language": "python",
   "name": "python3"
  },
  "language_info": {
   "codemirror_mode": {
    "name": "ipython",
    "version": 3
   },
   "file_extension": ".py",
   "mimetype": "text/x-python",
   "name": "python",
   "nbconvert_exporter": "python",
   "pygments_lexer": "ipython3",
   "version": "3.7.0"
  }
 },
 "nbformat": 4,
 "nbformat_minor": 2
}
